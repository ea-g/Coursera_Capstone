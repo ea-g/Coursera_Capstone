{
    "cells": [
        {
            "cell_type": "markdown",
            "metadata": {
                "collapsed": true
            },
            "source": "# New Orleans Incidents and Venues"
        },
        {
            "cell_type": "code",
            "execution_count": 7,
            "metadata": {},
            "outputs": [
                {
                    "name": "stdout",
                    "output_type": "stream",
                    "text": "Requirement already satisfied: shapely in /opt/conda/envs/Python36/lib/python3.6/site-packages (1.6.4.post2)\r\n"
                }
            ],
            "source": "import numpy as np\nimport pandas as pd\n!pip install shapely\nfrom shapely.geometry import Polygon, Point, MultiPolygon"
        },
        {
            "cell_type": "markdown",
            "metadata": {},
            "source": "## 1. Introduction\n---\nNew Orleans is a beautiful and complicated city in southern Louisiana with a 300 year history. It's known for jazz, Creole/Cajun cuisine, and Mardi Gras. The city has generally been the most populous of the state, but suffered a large outflux after the 2005 disaster, Hurricane Katrina. For 2019, it's estimated to be home to **423,656 people** in **13 districts** with **72 distinct neighborhoods**, coming out with a population density around 858 persons per square kilometer. However, along with its rich culture, the city has been riddled with crime, poverty, and flooding. The New Orleans Police Department is estimated to be understaffed by 30- 50% depending on the unit [(see this article)](https://www.fox8live.com/story/35820316/new-orleans-police-pay-increase-is-attempt-to-stop-terrible-attrition-rate/ \"Police Troubles\")\n and as such must stretch their resources by whatever means they have. In stretching those resources, they must be informed on high problem times, areas, and what to expect. This project focuses upon the relation between New Orleans locales and 911 (emergency/crime) incident calls, seeking to find patterns to better distribute local police patrols and response units. It leverages data on venues, neighborhood zones, and 911 calls in exploring these patterns. Lastly, traffic and miscellaneous incidents will be *excluded* from the project. \n \nSpecifically, we want to answer the **question**:\n * Can we use machine learning to cluster New Orleans areas based on 911 incidents and venue types present?\n\nWe will also *explore*:\n * Is there a correlation between venue type occurrence and incident type occurrence?  \n\nWhich may help the following **stakeholders**:\n* Local police and emergency responders\n* Government officials allocating city resources in business licenses (if certain venue types trend with crime) or police funding\n\nAdditionally, if the information from this project is combined with housing data, it could be useful for:\n* Realestate investors and developers \n* Non-locals looking to move to the area\n\nConsidering the problem and stakeholders, we can create a map of New Orleans where each neighborhood is clustered according to frequency of 911 incidents and venue types. This may inform where and what type of emergency resource is most needed and around which venue type(s) the incidents occur. "
        },
        {
            "cell_type": "markdown",
            "metadata": {},
            "source": "## 2. Data\n---\n### 2.1 Data Sources\n---\nData for this project comes from four main sources:\n\n1. [**Calls for Service 2018**](https://data.nola.gov/api/views/9san-ivhk/rows.csv?accessType=DOWNLOAD \"Calls for Service 2018 csv\")   \nThis is a log of all 911 calls in New Orleans in 2018. It contains 175 different types of incidents ranging from traffic violations to homicide. Each incident\u2019s time, location, priority, and a range of other factors are listed. For this project, incidents related to neighborhood safety and crime will be used. Those such as traffic, medical, and miscellaneous will be *excluded*.\n2. [**Foursquare API**](https://developer.foursquare.com/docs/api/endpoints \"Foursquare endpoints\")    \nVenues and their types can be retrieved based on geolocations from a given neighborhood\u2019s centroid (listed on Wikipedia). \n3. [**Wikipedia list of Neighborhoods**](https://en.wikipedia.org/wiki/Neighborhoods_in_New_Orleans \"NOLA Neighborhoods\")   \nA table of New Orleans neighborhoods and their centroid coordinates can be scraped from wikipedia using pandas. \n4. [**Neighborhood boundaries**](https://data.nola.gov/api/views/abhb-x4ch/rows.csv?accessType=DOWNLOAD \"Neighborhood Boundaries\")    \nThis is a list of New Orleans neighborhoods and their geographic boundaries as defined by the US census. Incidents from the calls of service will be categorized into neighborhoods based on geolocation using this data.\n\n### 2.2 Data Cleaning\n---\nData from Calls for Service 2018 is a huge table consisting of over 460,000 entries. Many fields contain missing values or irrelevant content for this study. In cleaning the table, several things must be done. First, essential columns must be identified and erroneous ones dropped. Second, rows with an incident type not pertaining to neighborhood safety or crime are to be removed. Third, missing values need to be dropped or filled. Finally, naming schemes of rows are revised. \n\nScanning the columns in the Calls for Service data set, we can see an incident\u2019s police log number, type, the police code for the type, its initial type and code, 3 different time stamps for time created, arrived, and closed; the disposition (what happened when the responders arrived), and several other fields. For this study, the type and location fields are essential. We will also keep the block address, zip, beat, and police district for additional location information. One time stamp (TimeCreate) and the type code (Type_) are retained for reference and later analysis.       \n\nSummary of Columns | Column Names | Total  \n--- | --- | ---  \n**Columns kept** | Type_, TypeText, TimeCreate, Beat, BLOCK_ADDRESS, Zip, PoliceDistrict, Location | 8  \n**Columns discarded** | NOPD_Item, Priority, InitialType, InitialTypeText, InitialPriority, MapX, MapY, TimeDispatch, TimeArrive, TimeClosed, Disposition, DispositionText, SelfInitiated\t| 13  \n\nThe next big item for this data set is retaining rows with a relevant type field. As stated before, we want rows that are related to neighborhood safety and crime. Some examples of types to be discarded are traffic related incidents, MEDICAL, and AREA CHECK. For a full list, check below:  \n\nType Removed | Note  \n--- | ---  \n'ABANDONED BOAT' | --    \n'ABANDONED VEHICLE' | --  \n'AIRPLANE CRASH' | --  \n'AREA CHECK' | --  \n'ATTACHMENT' | --  \n'AUTO ACCIDENT' | --  \n'AUTO ACCIDENT CITY VEHICLE' | --  \n'AUTO ACCIDENT FATALITY' | --  \n'AUTO ACCIDENT POLICE VEHICLE' | --  \n'AUTO ACCIDENT WITH INJURY' | --  \n'BUSINESS CHECK' | --  \n'CAD TEST' | --  \n'COMPLAINT OTHER' | --  \n'DIRECTED PATROL' | --  \n'DIRECTED TRAFFIC ENFORCEMENT' | --  \n'DISTURBANCE (OTHER)' | May be safety related, but not enough info is available    \n'ELECTRONIC MONITORING' | --  \n'FLOOD EVENT' | --  \n'FLOODED VEHICLE' | --  \n'INCIDENT REQUESTED BY ANOTHER AGENCY' | --  \n'LOST PROPERTY' | --  \n'MEDICAL' | --  \n'MEDICAL - NALOXONE' | --  \n'MEET AN OFFICER' | --  \n'MUNICIPAL ATTACHMENT' | --  \n'OFFICER NEEDS ASSISTANCE' | --  \n'PARADE ITEM NUMBER' | --  \n'RECOVERY OF VEHICLE' | --  \n'RESIDENCE CHECK' | --  \n'RETURN FOR ADDITIONAL INFO' | --  \n'SILENT 911 CALL' | --  \n'TAKING TEMPORARY POSSESSION' | --  \n'TOW IMPOUNDED VEHICLE (PRIVATE)' | --  \n'TRAFFIC ATTACHMENT' | --  \n'TRAFFIC CONGESTION' | --  \n'TRAFFIC INCIDENT' | --  \n'TROOP N AREA - BUSINESS - RESIDENCE CHECK' | --  \n'UNDERPASS MONITORING OR CLOSURE' | --  \n'WALKING BEAT' | --  \n'WARR STOP WITH RELEASE' | --  \n**TOTAL REMOVED** | **40**  \n**TOTAL RETAINED** | **135**  \n\nIt could be argued that other types not removed should be or some removed should be retained. However, without consulting experts the above items are what we will discard. \n\n\n\nAfter filtering the necessary columns and rows, we drop all rows with nan values in the Location field. Rows marked with (0, 0) are also dropped. Lastly, columns are renamed as follows:  \n\nInitial Name | Final Name   \n--- | ---  \nType_ | Code  \nTypeText | Type  \nTimeCreate | Time  \nBeat | Beat  \nBLOCK_ADDRESS | Address  \nZip | Zip  \nPoliceDistrict | District  \nLocation | Coordinates    \n\nData from both Foursquare and Wikipedia is cleaned and formatted as it is retrieved. As for neighborhood boundaries, the boundary information is stored as a MULTIPOLYGON type from a different kernel. We will change this into a POLYGON type from the shapely library in python. Later, we can pass the coordinates from Calls for Service as \"points\" to see if they are contained in the POLYGON, thus assigning their neighborhood. The necessary columns from this data set are \"the_geom\" and \"Neighborhood\". \"the_geom\" is renamed as \"Poly\". Last, the neighborhood listings in the Wikipedia list and Neighborhood boundaries are reconciled--the only difference being an additional space in \"St. Anthony\" in the Neighborhood Boundaries data set.  "
        },
        {
            "cell_type": "markdown",
            "metadata": {},
            "source": "### 2.3 Data Examples\n---\n1. **Calls for Service 2018** (before cleaning)"
        },
        {
            "cell_type": "code",
            "execution_count": 4,
            "metadata": {
                "scrolled": true
            },
            "outputs": [
                {
                    "data": {
                        "text/html": "<div>\n<style scoped>\n    .dataframe tbody tr th:only-of-type {\n        vertical-align: middle;\n    }\n\n    .dataframe tbody tr th {\n        vertical-align: top;\n    }\n\n    .dataframe thead th {\n        text-align: right;\n    }\n</style>\n<table border=\"1\" class=\"dataframe\">\n  <thead>\n    <tr style=\"text-align: right;\">\n      <th></th>\n      <th>NOPD_Item</th>\n      <th>Type_</th>\n      <th>TypeText</th>\n      <th>Priority</th>\n      <th>InitialType</th>\n      <th>InitialTypeText</th>\n      <th>InitialPriority</th>\n      <th>MapX</th>\n      <th>MapY</th>\n      <th>TimeCreate</th>\n      <th>...</th>\n      <th>TimeArrive</th>\n      <th>TimeClosed</th>\n      <th>Disposition</th>\n      <th>DispositionText</th>\n      <th>SelfInitiated</th>\n      <th>Beat</th>\n      <th>BLOCK_ADDRESS</th>\n      <th>Zip</th>\n      <th>PoliceDistrict</th>\n      <th>Location</th>\n    </tr>\n  </thead>\n  <tbody>\n    <tr>\n      <th>0</th>\n      <td>B0918118</td>\n      <td>103M</td>\n      <td>MENTAL PATIENT</td>\n      <td>2C</td>\n      <td>67</td>\n      <td>THEFT</td>\n      <td>1G</td>\n      <td>37369000</td>\n      <td>3513814</td>\n      <td>02/08/2018 08:35:29 PM</td>\n      <td>...</td>\n      <td>02/08/2018 08:37:45 PM</td>\n      <td>02/08/2018 09:57:14 PM</td>\n      <td>NAT</td>\n      <td>Necessary Action Taken</td>\n      <td>N</td>\n      <td>2S02</td>\n      <td>087XX S Claiborne Ave</td>\n      <td>70118.0</td>\n      <td>2</td>\n      <td>(0.0, 0.0)</td>\n    </tr>\n    <tr>\n      <th>1</th>\n      <td>A1964518</td>\n      <td>67C</td>\n      <td>THEFT FROM EXTERIOR</td>\n      <td>1A</td>\n      <td>62C</td>\n      <td>SIMPLE BURGLARY VEHICLE</td>\n      <td>1G</td>\n      <td>0</td>\n      <td>0</td>\n      <td>01/17/2018 04:10:29 PM</td>\n      <td>...</td>\n      <td>01/18/2018 02:34:08 AM</td>\n      <td>01/18/2018 03:14:11 AM</td>\n      <td>GOA</td>\n      <td>GONE ON ARRIVAL</td>\n      <td>N</td>\n      <td>7L03</td>\n      <td>147XX Chef Menteur Hwy</td>\n      <td>NaN</td>\n      <td>0</td>\n      <td>NaN</td>\n    </tr>\n    <tr>\n      <th>2</th>\n      <td>B0853118</td>\n      <td>21</td>\n      <td>COMPLAINT OTHER</td>\n      <td>1J</td>\n      <td>103</td>\n      <td>DISTURBANCE (OTHER)</td>\n      <td>1C</td>\n      <td>3696210</td>\n      <td>550646</td>\n      <td>02/08/2018 10:29:36 AM</td>\n      <td>...</td>\n      <td>02/08/2018 06:21:40 PM</td>\n      <td>02/08/2018 06:28:41 PM</td>\n      <td>NAT</td>\n      <td>Necessary Action Taken</td>\n      <td>N</td>\n      <td>7A01</td>\n      <td>037XX Downman Rd</td>\n      <td>70126.0</td>\n      <td>3</td>\n      <td>(30.00763148, -90.02092967)</td>\n    </tr>\n    <tr>\n      <th>3</th>\n      <td>B0901318</td>\n      <td>103</td>\n      <td>DISTURBANCE (OTHER)</td>\n      <td>1C</td>\n      <td>103</td>\n      <td>DISTURBANCE (OTHER)</td>\n      <td>1C</td>\n      <td>3674468</td>\n      <td>523681</td>\n      <td>02/08/2018 05:44:10 PM</td>\n      <td>...</td>\n      <td>02/08/2018 06:09:17 PM</td>\n      <td>02/08/2018 06:52:40 PM</td>\n      <td>NAT</td>\n      <td>Necessary Action Taken</td>\n      <td>N</td>\n      <td>6F02</td>\n      <td>029XX S Saratoga St</td>\n      <td>70115.0</td>\n      <td>6</td>\n      <td>(29.93415313, -90.09054327)</td>\n    </tr>\n    <tr>\n      <th>4</th>\n      <td>B0894018</td>\n      <td>107</td>\n      <td>SUSPICIOUS PERSON</td>\n      <td>2C</td>\n      <td>107</td>\n      <td>SUSPICIOUS PERSON</td>\n      <td>2C</td>\n      <td>3662712</td>\n      <td>530883</td>\n      <td>02/08/2018 04:55:15 PM</td>\n      <td>...</td>\n      <td>02/08/2018 05:02:55 PM</td>\n      <td>02/08/2018 05:09:17 PM</td>\n      <td>GOA</td>\n      <td>GONE ON ARRIVAL</td>\n      <td>N</td>\n      <td>2K03</td>\n      <td>018XX Cambronne St</td>\n      <td>70118.0</td>\n      <td>2</td>\n      <td>(29.9543012, -90.12741579)</td>\n    </tr>\n  </tbody>\n</table>\n<p>5 rows \u00d7 21 columns</p>\n</div>",
                        "text/plain": "  NOPD_Item Type_             TypeText Priority InitialType  \\\n0  B0918118  103M       MENTAL PATIENT       2C          67   \n1  A1964518   67C  THEFT FROM EXTERIOR       1A         62C   \n2  B0853118    21      COMPLAINT OTHER       1J         103   \n3  B0901318   103  DISTURBANCE (OTHER)       1C         103   \n4  B0894018   107    SUSPICIOUS PERSON       2C         107   \n\n           InitialTypeText InitialPriority      MapX     MapY  \\\n0                    THEFT              1G  37369000  3513814   \n1  SIMPLE BURGLARY VEHICLE              1G         0        0   \n2      DISTURBANCE (OTHER)              1C   3696210   550646   \n3      DISTURBANCE (OTHER)              1C   3674468   523681   \n4        SUSPICIOUS PERSON              2C   3662712   530883   \n\n               TimeCreate  ...              TimeArrive  \\\n0  02/08/2018 08:35:29 PM  ...  02/08/2018 08:37:45 PM   \n1  01/17/2018 04:10:29 PM  ...  01/18/2018 02:34:08 AM   \n2  02/08/2018 10:29:36 AM  ...  02/08/2018 06:21:40 PM   \n3  02/08/2018 05:44:10 PM  ...  02/08/2018 06:09:17 PM   \n4  02/08/2018 04:55:15 PM  ...  02/08/2018 05:02:55 PM   \n\n               TimeClosed Disposition         DispositionText SelfInitiated  \\\n0  02/08/2018 09:57:14 PM         NAT  Necessary Action Taken             N   \n1  01/18/2018 03:14:11 AM         GOA         GONE ON ARRIVAL             N   \n2  02/08/2018 06:28:41 PM         NAT  Necessary Action Taken             N   \n3  02/08/2018 06:52:40 PM         NAT  Necessary Action Taken             N   \n4  02/08/2018 05:09:17 PM         GOA         GONE ON ARRIVAL             N   \n\n   Beat           BLOCK_ADDRESS      Zip  PoliceDistrict  \\\n0  2S02   087XX S Claiborne Ave  70118.0               2   \n1  7L03  147XX Chef Menteur Hwy      NaN               0   \n2  7A01        037XX Downman Rd  70126.0               3   \n3  6F02     029XX S Saratoga St  70115.0               6   \n4  2K03      018XX Cambronne St  70118.0               2   \n\n                      Location  \n0                   (0.0, 0.0)  \n1                          NaN  \n2  (30.00763148, -90.02092967)  \n3  (29.93415313, -90.09054327)  \n4   (29.9543012, -90.12741579)  \n\n[5 rows x 21 columns]"
                    },
                    "execution_count": 4,
                    "metadata": {},
                    "output_type": "execute_result"
                }
            ],
            "source": "# The code was removed by Watson Studio for sharing."
        },
        {
            "cell_type": "markdown",
            "metadata": {},
            "source": "**After cleaning**"
        },
        {
            "cell_type": "code",
            "execution_count": 5,
            "metadata": {},
            "outputs": [
                {
                    "name": "stderr",
                    "output_type": "stream",
                    "text": "/opt/conda/envs/Python36/lib/python3.6/site-packages/pandas/core/generic.py:6586: SettingWithCopyWarning: \nA value is trying to be set on a copy of a slice from a DataFrame\n\nSee the caveats in the documentation: http://pandas.pydata.org/pandas-docs/stable/indexing.html#indexing-view-versus-copy\n  self._update_inplace(new_data)\n/opt/conda/envs/Python36/lib/python3.6/site-packages/ipykernel/__main__.py:20: SettingWithCopyWarning: \nA value is trying to be set on a copy of a slice from a DataFrame\n\nSee the caveats in the documentation: http://pandas.pydata.org/pandas-docs/stable/indexing.html#indexing-view-versus-copy\n/opt/conda/envs/Python36/lib/python3.6/site-packages/pandas/core/frame.py:3940: SettingWithCopyWarning: \nA value is trying to be set on a copy of a slice from a DataFrame\n\nSee the caveats in the documentation: http://pandas.pydata.org/pandas-docs/stable/indexing.html#indexing-view-versus-copy\n  errors=errors)\n/opt/conda/envs/Python36/lib/python3.6/site-packages/ipykernel/__main__.py:27: SettingWithCopyWarning: \nA value is trying to be set on a copy of a slice from a DataFrame.\nTry using .loc[row_indexer,col_indexer] = value instead\n\nSee the caveats in the documentation: http://pandas.pydata.org/pandas-docs/stable/indexing.html#indexing-view-versus-copy\n"
                },
                {
                    "data": {
                        "text/html": "<div>\n<style scoped>\n    .dataframe tbody tr th:only-of-type {\n        vertical-align: middle;\n    }\n\n    .dataframe tbody tr th {\n        vertical-align: top;\n    }\n\n    .dataframe thead th {\n        text-align: right;\n    }\n</style>\n<table border=\"1\" class=\"dataframe\">\n  <thead>\n    <tr style=\"text-align: right;\">\n      <th></th>\n      <th>Code</th>\n      <th>Type</th>\n      <th>Time</th>\n      <th>Beat</th>\n      <th>Address</th>\n      <th>Zip</th>\n      <th>District</th>\n      <th>Coordinates</th>\n    </tr>\n  </thead>\n  <tbody>\n    <tr>\n      <th>0</th>\n      <td>107</td>\n      <td>SUSPICIOUS PERSON</td>\n      <td>02/08/2018 04:55:15 PM</td>\n      <td>2K03</td>\n      <td>018XX Cambronne St</td>\n      <td>70118.0</td>\n      <td>2</td>\n      <td>[29.9543012, -90.12741579]</td>\n    </tr>\n    <tr>\n      <th>1</th>\n      <td>107</td>\n      <td>SUSPICIOUS PERSON</td>\n      <td>02/08/2018 05:20:45 PM</td>\n      <td>5I04</td>\n      <td>Andry St &amp; N Claiborne Ave</td>\n      <td>70117.0</td>\n      <td>5</td>\n      <td>[29.9668437, -90.0168289]</td>\n    </tr>\n    <tr>\n      <th>2</th>\n      <td>62B</td>\n      <td>BUSINESS BURGLARY</td>\n      <td>02/08/2018 05:19:41 AM</td>\n      <td>7L01</td>\n      <td>046XX Michoud Blvd</td>\n      <td>70129.0</td>\n      <td>7</td>\n      <td>[30.03203358, -89.92870826]</td>\n    </tr>\n    <tr>\n      <th>3</th>\n      <td>29</td>\n      <td>DEATH</td>\n      <td>02/08/2018 10:16:26 AM</td>\n      <td>6P01</td>\n      <td>014XX General Taylor St</td>\n      <td>70115.0</td>\n      <td>6</td>\n      <td>[29.92592877, -90.09646117]</td>\n    </tr>\n    <tr>\n      <th>4</th>\n      <td>67</td>\n      <td>THEFT</td>\n      <td>02/08/2018 10:54:10 AM</td>\n      <td>5L01</td>\n      <td>023XX N Tonti St</td>\n      <td>70117.0</td>\n      <td>5</td>\n      <td>[29.98070722, -90.05459674]</td>\n    </tr>\n  </tbody>\n</table>\n</div>",
                        "text/plain": "  Code               Type                    Time  Beat  \\\n0  107  SUSPICIOUS PERSON  02/08/2018 04:55:15 PM  2K03   \n1  107  SUSPICIOUS PERSON  02/08/2018 05:20:45 PM  5I04   \n2  62B  BUSINESS BURGLARY  02/08/2018 05:19:41 AM  7L01   \n3   29              DEATH  02/08/2018 10:16:26 AM  6P01   \n4   67              THEFT  02/08/2018 10:54:10 AM  5L01   \n\n                      Address      Zip  District                  Coordinates  \n0          018XX Cambronne St  70118.0         2   [29.9543012, -90.12741579]  \n1  Andry St & N Claiborne Ave  70117.0         5    [29.9668437, -90.0168289]  \n2          046XX Michoud Blvd  70129.0         7  [30.03203358, -89.92870826]  \n3     014XX General Taylor St  70115.0         6  [29.92592877, -90.09646117]  \n4            023XX N Tonti St  70117.0         5  [29.98070722, -90.05459674]  "
                    },
                    "execution_count": 5,
                    "metadata": {},
                    "output_type": "execute_result"
                }
            ],
            "source": "\n#drop unnecessary columns\ncallsdf.drop(columns=['NOPD_Item', 'Priority', 'InitialType', 'InitialTypeText', 'InitialPriority', 'MapX', 'MapY', 'TimeDispatch', 'TimeArrive', 'TimeClosed', 'Disposition', 'DispositionText', 'SelfInitiated'], inplace=True) #drop unnecessary columns\n\n#drop unnecessary types\ntypes = callsdf['TypeText'].unique().tolist()\ntypes = sorted(types)\nremoves =[]\nrs = [0, 1, 18, 19, 24, 25, 26, 27, 28, 29, 38, 39, 42, 51, 52, 55, 60, 67, 68, 88, 92, 93, 94, 96, 101, 105, 109, 119, 121, 122, 128, 153, 159, 160, 161, 162, 163, 169, 173, 174]   # non-crime incidents     \n\nfor i in rs:\n    removes.append(types[i]) #make traffic, medical, and misc incidents\n\nremoves #list of traffic, medical, and misc incidents\ncivildf = callsdf[~callsdf.TypeText.isin(removes)] #get df without traffic, medical, and miscillaneous incidents\n\n#drop rows with nan and 0, 0 values in Location\ncivildf.Location.replace(to_replace='(0.0, 0.0)', value=np.nan, inplace=True)\ncivildf.dropna(subset=['Location'], inplace=True)\n\n#Reset the index\ncivildf.reset_index(inplace=True)\ncivildf.drop(columns='index', inplace=True)\n\n#Change our location values from string type into a latitude, longitude tuple \ncivildf['Location'] = civildf['Location'].str.replace('[()]', '', regex=True)\nfor i in range(civildf.shape[0]):\n    b = civildf.loc[i, 'Location'].split(\",\") #split into a list\n    for j in range(len(b)):\n        b[j] = float(b[j])\n    civildf.at[i, 'Location'] = b #reassign poly value into list of x, y tuples\n    \n#rename columns\ncivildf.columns=['Code', 'Type', 'Time', 'Beat', 'Address', 'Zip', 'District', 'Coordinates']\ncivildf.head()"
        },
        {
            "cell_type": "markdown",
            "metadata": {},
            "source": "2. **Foursquare API**  \nVenues and their type will be combined with the Wikipedia list of Neighborhoods later."
        },
        {
            "cell_type": "markdown",
            "metadata": {},
            "source": "3. **Wikipedia List of Neighborhoods**"
        },
        {
            "cell_type": "code",
            "execution_count": 19,
            "metadata": {},
            "outputs": [
                {
                    "data": {
                        "text/html": "<div>\n<style scoped>\n    .dataframe tbody tr th:only-of-type {\n        vertical-align: middle;\n    }\n\n    .dataframe tbody tr th {\n        vertical-align: top;\n    }\n\n    .dataframe thead th {\n        text-align: right;\n    }\n</style>\n<table border=\"1\" class=\"dataframe\">\n  <thead>\n    <tr style=\"text-align: right;\">\n      <th></th>\n      <th>Neighborhood</th>\n      <th>Longitude</th>\n      <th>Latitude</th>\n    </tr>\n  </thead>\n  <tbody>\n    <tr>\n      <th>0</th>\n      <td>U.S. NAVAL BASE</td>\n      <td>-90.026093</td>\n      <td>29.946085</td>\n    </tr>\n    <tr>\n      <th>1</th>\n      <td>ALGIERS POINT</td>\n      <td>-90.051606</td>\n      <td>29.952462</td>\n    </tr>\n    <tr>\n      <th>2</th>\n      <td>WHITNEY</td>\n      <td>-90.042357</td>\n      <td>29.947200</td>\n    </tr>\n    <tr>\n      <th>3</th>\n      <td>AUDUBON</td>\n      <td>-90.121450</td>\n      <td>29.932994</td>\n    </tr>\n    <tr>\n      <th>4</th>\n      <td>OLD AURORA</td>\n      <td>-90.000000</td>\n      <td>29.924440</td>\n    </tr>\n  </tbody>\n</table>\n</div>",
                        "text/plain": "      Neighborhood  Longitude   Latitude\n0  U.S. NAVAL BASE -90.026093  29.946085\n1    ALGIERS POINT -90.051606  29.952462\n2          WHITNEY -90.042357  29.947200\n3          AUDUBON -90.121450  29.932994\n4       OLD AURORA -90.000000  29.924440"
                    },
                    "execution_count": 19,
                    "metadata": {},
                    "output_type": "execute_result"
                }
            ],
            "source": "tables = pd.read_html('https://en.wikipedia.org/wiki/Neighborhoods_in_New_Orleans', header=0)\nneighborhoods = tables[0]\nneighborhoods.head()\n"
        },
        {
            "cell_type": "markdown",
            "metadata": {},
            "source": "4. **Neighborhood Boundaries** (before cleaning)"
        },
        {
            "cell_type": "code",
            "execution_count": 41,
            "metadata": {},
            "outputs": [
                {
                    "data": {
                        "text/html": "<div>\n<style scoped>\n    .dataframe tbody tr th:only-of-type {\n        vertical-align: middle;\n    }\n\n    .dataframe tbody tr th {\n        vertical-align: top;\n    }\n\n    .dataframe thead th {\n        text-align: right;\n    }\n</style>\n<table border=\"1\" class=\"dataframe\">\n  <thead>\n    <tr style=\"text-align: right;\">\n      <th></th>\n      <th>the_geom</th>\n      <th>OBJECTID</th>\n      <th>Neighborhood</th>\n      <th>Shape_Length</th>\n      <th>Shape_Area</th>\n    </tr>\n  </thead>\n  <tbody>\n    <tr>\n      <th>0</th>\n      <td>MULTIPOLYGON (((-90.057938033305 29.9380212048...</td>\n      <td>906</td>\n      <td>LOWER GARDEN DISTRICT</td>\n      <td>30616.527778</td>\n      <td>3.039541e+07</td>\n    </tr>\n    <tr>\n      <th>1</th>\n      <td>MULTIPOLYGON (((-90.100964619377 29.9171524047...</td>\n      <td>883</td>\n      <td>EAST RIVERSIDE</td>\n      <td>12713.023743</td>\n      <td>6.908365e+06</td>\n    </tr>\n    <tr>\n      <th>2</th>\n      <td>MULTIPOLYGON (((-90.029798602096 29.9825104216...</td>\n      <td>889</td>\n      <td>FLORIDA DEV</td>\n      <td>5959.031328</td>\n      <td>1.540363e+06</td>\n    </tr>\n    <tr>\n      <th>3</th>\n      <td>MULTIPOLYGON (((-90.112151624385 29.9773204178...</td>\n      <td>881</td>\n      <td>DIXON</td>\n      <td>13225.197641</td>\n      <td>7.050618e+06</td>\n    </tr>\n    <tr>\n      <th>4</th>\n      <td>MULTIPOLYGON (((-90.090187615105 29.9286374080...</td>\n      <td>912</td>\n      <td>MILAN</td>\n      <td>16762.463146</td>\n      <td>1.470241e+07</td>\n    </tr>\n  </tbody>\n</table>\n</div>",
                        "text/plain": "                                            the_geom  OBJECTID  \\\n0  MULTIPOLYGON (((-90.057938033305 29.9380212048...       906   \n1  MULTIPOLYGON (((-90.100964619377 29.9171524047...       883   \n2  MULTIPOLYGON (((-90.029798602096 29.9825104216...       889   \n3  MULTIPOLYGON (((-90.112151624385 29.9773204178...       881   \n4  MULTIPOLYGON (((-90.090187615105 29.9286374080...       912   \n\n            Neighborhood  Shape_Length    Shape_Area  \n0  LOWER GARDEN DISTRICT  30616.527778  3.039541e+07  \n1         EAST RIVERSIDE  12713.023743  6.908365e+06  \n2            FLORIDA DEV   5959.031328  1.540363e+06  \n3                  DIXON  13225.197641  7.050618e+06  \n4                  MILAN  16762.463146  1.470241e+07  "
                    },
                    "execution_count": 41,
                    "metadata": {},
                    "output_type": "execute_result"
                }
            ],
            "source": "# The code was removed by Watson Studio for sharing."
        },
        {
            "cell_type": "markdown",
            "metadata": {},
            "source": "**After cleaning**"
        },
        {
            "cell_type": "code",
            "execution_count": 42,
            "metadata": {},
            "outputs": [
                {
                    "data": {
                        "text/html": "<div>\n<style scoped>\n    .dataframe tbody tr th:only-of-type {\n        vertical-align: middle;\n    }\n\n    .dataframe tbody tr th {\n        vertical-align: top;\n    }\n\n    .dataframe thead th {\n        text-align: right;\n    }\n</style>\n<table border=\"1\" class=\"dataframe\">\n  <thead>\n    <tr style=\"text-align: right;\">\n      <th></th>\n      <th>Poly</th>\n      <th>Neighborhood</th>\n    </tr>\n  </thead>\n  <tbody>\n    <tr>\n      <th>0</th>\n      <td>POLYGON ((-90.05793803330501 29.93802120487, -...</td>\n      <td>LOWER GARDEN DISTRICT</td>\n    </tr>\n    <tr>\n      <th>1</th>\n      <td>POLYGON ((-90.100964619377 29.917152404751, -9...</td>\n      <td>EAST RIVERSIDE</td>\n    </tr>\n    <tr>\n      <th>2</th>\n      <td>POLYGON ((-90.02979860209599 29.982510421634, ...</td>\n      <td>FLORIDA DEV</td>\n    </tr>\n    <tr>\n      <th>3</th>\n      <td>POLYGON ((-90.11215162438501 29.977320417804, ...</td>\n      <td>DIXON</td>\n    </tr>\n    <tr>\n      <th>4</th>\n      <td>POLYGON ((-90.09018761510499 29.928637408086, ...</td>\n      <td>MILAN</td>\n    </tr>\n  </tbody>\n</table>\n</div>",
                        "text/plain": "                                                Poly           Neighborhood\n0  POLYGON ((-90.05793803330501 29.93802120487, -...  LOWER GARDEN DISTRICT\n1  POLYGON ((-90.100964619377 29.917152404751, -9...         EAST RIVERSIDE\n2  POLYGON ((-90.02979860209599 29.982510421634, ...            FLORIDA DEV\n3  POLYGON ((-90.11215162438501 29.977320417804, ...                  DIXON\n4  POLYGON ((-90.09018761510499 29.928637408086, ...                  MILAN"
                    },
                    "execution_count": 42,
                    "metadata": {},
                    "output_type": "execute_result"
                }
            ],
            "source": "boundariesdf.columns=['Poly', 'id', 'Neighborhood', 'length', 'area'] #Change column names\nboundariesdf.drop(columns=['id', 'length', 'area'], inplace=True)\ndf1 = boundariesdf\ndf1['Poly'] = df1['Poly'].str.replace('[MULTIPOLYGON((()))]', '', regex=True) #remove the multiploy and stuff\nfor hood in range(72):\n    x = df1.loc[hood, 'Poly'].split(\",\") #split into a list\n    for i in range(0, len(x)):\n        x[i] = x[i].split() #split list items into tuples\n        for j in range(len(x[i])):\n            x[i][j] = float(x[i][j]) #convert tuple items into floats\n    df1.at[hood, 'Poly'] = x #reassign poly value into list of x, y tuples\ndf1['Poly'] = df1['Poly'].apply(Polygon) # convert our list into polygon objects\nboundariesdf.replace(to_replace='ST.  ANTHONY', value='ST. ANTHONY', inplace=True)\nboundariesdf.head()"
        },
        {
            "cell_type": "code",
            "execution_count": null,
            "metadata": {},
            "outputs": [],
            "source": ""
        }
    ],
    "metadata": {
        "kernelspec": {
            "display_name": "Python 3.6",
            "language": "python",
            "name": "python3"
        },
        "language_info": {
            "codemirror_mode": {
                "name": "ipython",
                "version": 3
            },
            "file_extension": ".py",
            "mimetype": "text/x-python",
            "name": "python",
            "nbconvert_exporter": "python",
            "pygments_lexer": "ipython3",
            "version": "3.6.8"
        }
    },
    "nbformat": 4,
    "nbformat_minor": 1
}